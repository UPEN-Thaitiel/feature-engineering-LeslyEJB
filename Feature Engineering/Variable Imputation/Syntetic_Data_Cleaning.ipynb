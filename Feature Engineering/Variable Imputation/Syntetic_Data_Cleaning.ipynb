{
 "cells": [
  {
   "cell_type": "markdown",
   "id": "d61c2ac0",
   "metadata": {},
   "source": [
    "### Syntetic Data Cleaning\n",
    "#### **Name:** Lesly Elizabeth Jimenez Burriola\n",
    "#### Import Libraries"
   ]
  },
  {
   "cell_type": "code",
   "execution_count": 562,
   "id": "23bab207",
   "metadata": {},
   "outputs": [],
   "source": [
    "import pandas as pd\n",
    "import numpy as np\n",
    "import matplotlib.pyplot as plt\n",
    "import seaborn as sns\n",
    "import math"
   ]
  },
  {
   "cell_type": "markdown",
   "id": "1b413974",
   "metadata": {},
   "source": [
    "#### Read Dataset"
   ]
  },
  {
   "cell_type": "code",
   "execution_count": 563,
   "id": "51ca5de4",
   "metadata": {},
   "outputs": [],
   "source": [
    "df = pd.read_csv(\"Synthetic_Data_Cleaning_example.csv\")"
   ]
  },
  {
   "cell_type": "code",
   "execution_count": 564,
   "id": "1197cf6d",
   "metadata": {},
   "outputs": [
    {
     "name": "stdout",
     "output_type": "stream",
     "text": [
      "<class 'pandas.core.frame.DataFrame'>\n",
      "RangeIndex: 104 entries, 0 to 103\n",
      "Data columns (total 5 columns):\n",
      " #   Column      Non-Null Count  Dtype  \n",
      "---  ------      --------------  -----  \n",
      " 0   Age         103 non-null    float64\n",
      " 1   Income      103 non-null    float64\n",
      " 2   Gender      84 non-null     object \n",
      " 3   Registered  103 non-null    float64\n",
      " 4   City        103 non-null    object \n",
      "dtypes: float64(3), object(2)\n",
      "memory usage: 4.2+ KB\n"
     ]
    }
   ],
   "source": [
    "df.info()"
   ]
  },
  {
   "cell_type": "code",
   "execution_count": 565,
   "id": "bcfe0dfc",
   "metadata": {},
   "outputs": [
    {
     "data": {
      "text/html": [
       "<div>\n",
       "<style scoped>\n",
       "    .dataframe tbody tr th:only-of-type {\n",
       "        vertical-align: middle;\n",
       "    }\n",
       "\n",
       "    .dataframe tbody tr th {\n",
       "        vertical-align: top;\n",
       "    }\n",
       "\n",
       "    .dataframe thead th {\n",
       "        text-align: right;\n",
       "    }\n",
       "</style>\n",
       "<table border=\"1\" class=\"dataframe\">\n",
       "  <thead>\n",
       "    <tr style=\"text-align: right;\">\n",
       "      <th></th>\n",
       "      <th>Age</th>\n",
       "      <th>Income</th>\n",
       "      <th>Gender</th>\n",
       "      <th>Registered</th>\n",
       "      <th>City</th>\n",
       "    </tr>\n",
       "  </thead>\n",
       "  <tbody>\n",
       "    <tr>\n",
       "      <th>0</th>\n",
       "      <td>34.967142</td>\n",
       "      <td>28769.438869</td>\n",
       "      <td>Male</td>\n",
       "      <td>1.0</td>\n",
       "      <td>New York</td>\n",
       "    </tr>\n",
       "    <tr>\n",
       "      <th>1</th>\n",
       "      <td>28.617357</td>\n",
       "      <td>43690.320159</td>\n",
       "      <td>Female</td>\n",
       "      <td>0.0</td>\n",
       "      <td>Paris</td>\n",
       "    </tr>\n",
       "    <tr>\n",
       "      <th>2</th>\n",
       "      <td>36.476885</td>\n",
       "      <td>44859.282252</td>\n",
       "      <td>MALE</td>\n",
       "      <td>1.0</td>\n",
       "      <td>Tokyo</td>\n",
       "    </tr>\n",
       "    <tr>\n",
       "      <th>3</th>\n",
       "      <td>45.230299</td>\n",
       "      <td>37965.840962</td>\n",
       "      <td>FEMALE</td>\n",
       "      <td>0.0</td>\n",
       "      <td>Berlin</td>\n",
       "    </tr>\n",
       "    <tr>\n",
       "      <th>4</th>\n",
       "      <td>27.658466</td>\n",
       "      <td>47580.714325</td>\n",
       "      <td>male</td>\n",
       "      <td>1.0</td>\n",
       "      <td>New York</td>\n",
       "    </tr>\n",
       "  </tbody>\n",
       "</table>\n",
       "</div>"
      ],
      "text/plain": [
       "         Age        Income  Gender  Registered      City\n",
       "0  34.967142  28769.438869    Male         1.0  New York\n",
       "1  28.617357  43690.320159  Female         0.0     Paris\n",
       "2  36.476885  44859.282252    MALE         1.0     Tokyo\n",
       "3  45.230299  37965.840962  FEMALE         0.0    Berlin\n",
       "4  27.658466  47580.714325    male         1.0  New York"
      ]
     },
     "execution_count": 565,
     "metadata": {},
     "output_type": "execute_result"
    }
   ],
   "source": [
    "df.head()"
   ]
  },
  {
   "cell_type": "code",
   "execution_count": 566,
   "id": "176d4e26",
   "metadata": {},
   "outputs": [
    {
     "data": {
      "text/html": [
       "<div>\n",
       "<style scoped>\n",
       "    .dataframe tbody tr th:only-of-type {\n",
       "        vertical-align: middle;\n",
       "    }\n",
       "\n",
       "    .dataframe tbody tr th {\n",
       "        vertical-align: top;\n",
       "    }\n",
       "\n",
       "    .dataframe thead th {\n",
       "        text-align: right;\n",
       "    }\n",
       "</style>\n",
       "<table border=\"1\" class=\"dataframe\">\n",
       "  <thead>\n",
       "    <tr style=\"text-align: right;\">\n",
       "      <th></th>\n",
       "      <th>Age</th>\n",
       "      <th>Income</th>\n",
       "      <th>Registered</th>\n",
       "    </tr>\n",
       "  </thead>\n",
       "  <tbody>\n",
       "    <tr>\n",
       "      <th>count</th>\n",
       "      <td>103.000000</td>\n",
       "      <td>103.000000</td>\n",
       "      <td>103.000000</td>\n",
       "    </tr>\n",
       "    <tr>\n",
       "      <th>mean</th>\n",
       "      <td>29.573987</td>\n",
       "      <td>51079.867179</td>\n",
       "      <td>0.504854</td>\n",
       "    </tr>\n",
       "    <tr>\n",
       "      <th>std</th>\n",
       "      <td>13.137300</td>\n",
       "      <td>21167.304578</td>\n",
       "      <td>0.502421</td>\n",
       "    </tr>\n",
       "    <tr>\n",
       "      <th>min</th>\n",
       "      <td>-5.000000</td>\n",
       "      <td>-1000.000000</td>\n",
       "      <td>0.000000</td>\n",
       "    </tr>\n",
       "    <tr>\n",
       "      <th>25%</th>\n",
       "      <td>23.988273</td>\n",
       "      <td>37726.305475</td>\n",
       "      <td>0.000000</td>\n",
       "    </tr>\n",
       "    <tr>\n",
       "      <th>50%</th>\n",
       "      <td>28.843517</td>\n",
       "      <td>51028.444622</td>\n",
       "      <td>1.000000</td>\n",
       "    </tr>\n",
       "    <tr>\n",
       "      <th>75%</th>\n",
       "      <td>34.967142</td>\n",
       "      <td>58315.989946</td>\n",
       "      <td>1.000000</td>\n",
       "    </tr>\n",
       "    <tr>\n",
       "      <th>max</th>\n",
       "      <td>120.000000</td>\n",
       "      <td>200000.000000</td>\n",
       "      <td>1.000000</td>\n",
       "    </tr>\n",
       "  </tbody>\n",
       "</table>\n",
       "</div>"
      ],
      "text/plain": [
       "              Age         Income  Registered\n",
       "count  103.000000     103.000000  103.000000\n",
       "mean    29.573987   51079.867179    0.504854\n",
       "std     13.137300   21167.304578    0.502421\n",
       "min     -5.000000   -1000.000000    0.000000\n",
       "25%     23.988273   37726.305475    0.000000\n",
       "50%     28.843517   51028.444622    1.000000\n",
       "75%     34.967142   58315.989946    1.000000\n",
       "max    120.000000  200000.000000    1.000000"
      ]
     },
     "execution_count": 566,
     "metadata": {},
     "output_type": "execute_result"
    }
   ],
   "source": [
    "df.describe()"
   ]
  },
  {
   "cell_type": "code",
   "execution_count": 567,
   "id": "939dcf19",
   "metadata": {},
   "outputs": [
    {
     "data": {
      "text/plain": [
       "(104, 5)"
      ]
     },
     "execution_count": 567,
     "metadata": {},
     "output_type": "execute_result"
    }
   ],
   "source": [
    "df.shape"
   ]
  },
  {
   "cell_type": "markdown",
   "id": "12e87066",
   "metadata": {},
   "source": [
    "#### Data Cleaning"
   ]
  },
  {
   "cell_type": "code",
   "execution_count": 568,
   "id": "afc894e5",
   "metadata": {},
   "outputs": [
    {
     "data": {
      "text/plain": [
       "Age           0\n",
       "Income        0\n",
       "Gender        0\n",
       "Registered    0\n",
       "City          0\n",
       "dtype: int64"
      ]
     },
     "execution_count": 568,
     "metadata": {},
     "output_type": "execute_result"
    }
   ],
   "source": [
    "df = df.dropna()\n",
    "df.isnull().sum()"
   ]
  },
  {
   "cell_type": "code",
   "execution_count": 569,
   "id": "e64535bf",
   "metadata": {},
   "outputs": [
    {
     "data": {
      "text/plain": [
       "Age\n",
       "34.967142    2\n",
       "28.617357    1\n",
       "36.476885    1\n",
       "45.230299    1\n",
       "27.658466    1\n",
       "            ..\n",
       "26.723379    1\n",
       "26.078918    1\n",
       "15.364851    1\n",
       "32.961203    1\n",
       "32.610553    1\n",
       "Name: count, Length: 80, dtype: int64"
      ]
     },
     "execution_count": 569,
     "metadata": {},
     "output_type": "execute_result"
    }
   ],
   "source": [
    "df[\"Age\"].value_counts()"
   ]
  },
  {
   "cell_type": "code",
   "execution_count": 570,
   "id": "71edcb7e",
   "metadata": {},
   "outputs": [
    {
     "data": {
      "text/plain": [
       "<Axes: >"
      ]
     },
     "execution_count": 570,
     "metadata": {},
     "output_type": "execute_result"
    },
    {
     "data": {
      "image/png": "[encoded data removed]",
      "text/plain": [
       "<Figure size 640x480 with 1 Axes>"
      ]
     },
     "metadata": {},
     "output_type": "display_data"
    }
   ],
   "source": [
    "df[\"Age\"].hist()"
   ]
  },
  {
   "cell_type": "code",
   "execution_count": 571,
   "id": "e3accebf",
   "metadata": {},
   "outputs": [
    {
     "data": {
      "text/plain": [
       "Age\n",
       "25.0    7\n",
       "33.0    5\n",
       "28.0    5\n",
       "31.0    4\n",
       "38.0    4\n",
       "27.0    4\n",
       "45.0    4\n",
       "18.0    3\n",
       "32.0    3\n",
       "23.0    3\n",
       "40.0    3\n",
       "34.0    3\n",
       "29.0    3\n",
       "35.0    2\n",
       "36.0    2\n",
       "46.0    2\n",
       "24.0    2\n",
       "22.0    2\n",
       "39.0    2\n",
       "19.0    2\n",
       "30.0    2\n",
       "15.0    2\n",
       "26.0    2\n",
       "13.0    1\n",
       "20.0    1\n",
       "16.0    1\n",
       "11.0    1\n",
       "49.0    1\n",
       "37.0    1\n",
       "10.0    1\n",
       "41.0    1\n",
       "44.0    1\n",
       "4.0     1\n",
       "Name: count, dtype: int64"
      ]
     },
     "execution_count": 571,
     "metadata": {},
     "output_type": "execute_result"
    }
   ],
   "source": [
    "df['Age'] = df['Age'].round(0)\n",
    "df[\"Age\"].value_counts()"
   ]
  },
  {
   "cell_type": "markdown",
   "id": "48694386",
   "metadata": {},
   "source": [
    "#### Saving our age with better values"
   ]
  },
  {
   "cell_type": "code",
   "execution_count": 572,
   "id": "75f5f8c2",
   "metadata": {},
   "outputs": [
    {
     "data": {
      "text/plain": [
       "<Axes: >"
      ]
     },
     "execution_count": 572,
     "metadata": {},
     "output_type": "execute_result"
    },
    {
     "data": {
      "image/png": "[encoded data removed]",
      "text/plain": [
       "<Figure size 640x480 with 1 Axes>"
      ]
     },
     "metadata": {},
     "output_type": "display_data"
    }
   ],
   "source": [
    "df[\"Age\"] = df[\"Age\"][((df[\"Age\"] >= 20) & (df[\"Age\"] <= 40))]\n",
    "df[\"Age\"].hist()"
   ]
  },
  {
   "cell_type": "code",
   "execution_count": 573,
   "id": "035f7a1d",
   "metadata": {},
   "outputs": [
    {
     "data": {
      "text/plain": [
       "Age           0\n",
       "Income        0\n",
       "Gender        0\n",
       "Registered    0\n",
       "City          0\n",
       "dtype: int64"
      ]
     },
     "execution_count": 573,
     "metadata": {},
     "output_type": "execute_result"
    }
   ],
   "source": [
    "df = df.dropna()\n",
    "df.isnull().sum()"
   ]
  },
  {
   "cell_type": "code",
   "execution_count": 574,
   "id": "cdf1a827",
   "metadata": {},
   "outputs": [
    {
     "data": {
      "text/html": [
       "<div>\n",
       "<style scoped>\n",
       "    .dataframe tbody tr th:only-of-type {\n",
       "        vertical-align: middle;\n",
       "    }\n",
       "\n",
       "    .dataframe tbody tr th {\n",
       "        vertical-align: top;\n",
       "    }\n",
       "\n",
       "    .dataframe thead th {\n",
       "        text-align: right;\n",
       "    }\n",
       "</style>\n",
       "<table border=\"1\" class=\"dataframe\">\n",
       "  <thead>\n",
       "    <tr style=\"text-align: right;\">\n",
       "      <th></th>\n",
       "      <th>Age</th>\n",
       "      <th>Income</th>\n",
       "      <th>Gender</th>\n",
       "      <th>Registered</th>\n",
       "      <th>City</th>\n",
       "    </tr>\n",
       "  </thead>\n",
       "  <tbody>\n",
       "    <tr>\n",
       "      <th>0</th>\n",
       "      <td>35.0</td>\n",
       "      <td>28769.438869</td>\n",
       "      <td>Male</td>\n",
       "      <td>1.0</td>\n",
       "      <td>New York</td>\n",
       "    </tr>\n",
       "    <tr>\n",
       "      <th>1</th>\n",
       "      <td>29.0</td>\n",
       "      <td>43690.320159</td>\n",
       "      <td>Female</td>\n",
       "      <td>0.0</td>\n",
       "      <td>Paris</td>\n",
       "    </tr>\n",
       "    <tr>\n",
       "      <th>2</th>\n",
       "      <td>36.0</td>\n",
       "      <td>44859.282252</td>\n",
       "      <td>MALE</td>\n",
       "      <td>1.0</td>\n",
       "      <td>Tokyo</td>\n",
       "    </tr>\n",
       "    <tr>\n",
       "      <th>4</th>\n",
       "      <td>28.0</td>\n",
       "      <td>47580.714325</td>\n",
       "      <td>male</td>\n",
       "      <td>1.0</td>\n",
       "      <td>New York</td>\n",
       "    </tr>\n",
       "    <tr>\n",
       "      <th>5</th>\n",
       "      <td>28.0</td>\n",
       "      <td>56060.762852</td>\n",
       "      <td>female</td>\n",
       "      <td>0.0</td>\n",
       "      <td>Paris</td>\n",
       "    </tr>\n",
       "  </tbody>\n",
       "</table>\n",
       "</div>"
      ],
      "text/plain": [
       "    Age        Income  Gender  Registered      City\n",
       "0  35.0  28769.438869    Male         1.0  New York\n",
       "1  29.0  43690.320159  Female         0.0     Paris\n",
       "2  36.0  44859.282252    MALE         1.0     Tokyo\n",
       "4  28.0  47580.714325    male         1.0  New York\n",
       "5  28.0  56060.762852  female         0.0     Paris"
      ]
     },
     "execution_count": 574,
     "metadata": {},
     "output_type": "execute_result"
    }
   ],
   "source": [
    "df.head()"
   ]
  },
  {
   "cell_type": "markdown",
   "id": "b8895717",
   "metadata": {},
   "source": [
    "#### Making gender with full uper"
   ]
  },
  {
   "cell_type": "code",
   "execution_count": 575,
   "id": "05390ed0",
   "metadata": {},
   "outputs": [],
   "source": [
    "df['Gender'] = df['Gender'].str.upper()"
   ]
  },
  {
   "cell_type": "code",
   "execution_count": 576,
   "id": "83e20566",
   "metadata": {},
   "outputs": [
    {
     "data": {
      "text/html": [
       "<div>\n",
       "<style scoped>\n",
       "    .dataframe tbody tr th:only-of-type {\n",
       "        vertical-align: middle;\n",
       "    }\n",
       "\n",
       "    .dataframe tbody tr th {\n",
       "        vertical-align: top;\n",
       "    }\n",
       "\n",
       "    .dataframe thead th {\n",
       "        text-align: right;\n",
       "    }\n",
       "</style>\n",
       "<table border=\"1\" class=\"dataframe\">\n",
       "  <thead>\n",
       "    <tr style=\"text-align: right;\">\n",
       "      <th></th>\n",
       "      <th>Age</th>\n",
       "      <th>Income</th>\n",
       "      <th>Gender</th>\n",
       "      <th>Registered</th>\n",
       "      <th>City</th>\n",
       "    </tr>\n",
       "  </thead>\n",
       "  <tbody>\n",
       "    <tr>\n",
       "      <th>0</th>\n",
       "      <td>35.0</td>\n",
       "      <td>28769.438869</td>\n",
       "      <td>MALE</td>\n",
       "      <td>1.0</td>\n",
       "      <td>New York</td>\n",
       "    </tr>\n",
       "    <tr>\n",
       "      <th>1</th>\n",
       "      <td>29.0</td>\n",
       "      <td>43690.320159</td>\n",
       "      <td>FEMALE</td>\n",
       "      <td>0.0</td>\n",
       "      <td>Paris</td>\n",
       "    </tr>\n",
       "    <tr>\n",
       "      <th>2</th>\n",
       "      <td>36.0</td>\n",
       "      <td>44859.282252</td>\n",
       "      <td>MALE</td>\n",
       "      <td>1.0</td>\n",
       "      <td>Tokyo</td>\n",
       "    </tr>\n",
       "    <tr>\n",
       "      <th>4</th>\n",
       "      <td>28.0</td>\n",
       "      <td>47580.714325</td>\n",
       "      <td>MALE</td>\n",
       "      <td>1.0</td>\n",
       "      <td>New York</td>\n",
       "    </tr>\n",
       "    <tr>\n",
       "      <th>5</th>\n",
       "      <td>28.0</td>\n",
       "      <td>56060.762852</td>\n",
       "      <td>FEMALE</td>\n",
       "      <td>0.0</td>\n",
       "      <td>Paris</td>\n",
       "    </tr>\n",
       "  </tbody>\n",
       "</table>\n",
       "</div>"
      ],
      "text/plain": [
       "    Age        Income  Gender  Registered      City\n",
       "0  35.0  28769.438869    MALE         1.0  New York\n",
       "1  29.0  43690.320159  FEMALE         0.0     Paris\n",
       "2  36.0  44859.282252    MALE         1.0     Tokyo\n",
       "4  28.0  47580.714325    MALE         1.0  New York\n",
       "5  28.0  56060.762852  FEMALE         0.0     Paris"
      ]
     },
     "execution_count": 576,
     "metadata": {},
     "output_type": "execute_result"
    }
   ],
   "source": [
    "df.head()"
   ]
  },
  {
   "cell_type": "markdown",
   "id": "2f9b6b21",
   "metadata": {},
   "source": [
    "#### Cleaning column income"
   ]
  },
  {
   "cell_type": "code",
   "execution_count": 577,
   "id": "b2e2c2a5",
   "metadata": {},
   "outputs": [
    {
     "data": {
      "text/plain": [
       "<Axes: >"
      ]
     },
     "execution_count": 577,
     "metadata": {},
     "output_type": "execute_result"
    },
    {
     "data": {
      "image/png": "[encoded data removed]",
      "text/plain": [
       "<Figure size 640x480 with 1 Axes>"
      ]
     },
     "metadata": {},
     "output_type": "display_data"
    }
   ],
   "source": [
    "df[\"Income\"].hist()"
   ]
  },
  {
   "cell_type": "code",
   "execution_count": 578,
   "id": "f33b794e",
   "metadata": {},
   "outputs": [
    {
     "data": {
      "text/plain": [
       "<Axes: >"
      ]
     },
     "execution_count": 578,
     "metadata": {},
     "output_type": "execute_result"
    },
    {
     "data": {
      "image/png": "[encoded data removed]",
      "text/plain": [
       "<Figure size 640x480 with 1 Axes>"
      ]
     },
     "metadata": {},
     "output_type": "display_data"
    }
   ],
   "source": [
    "df[\"Income\"] = df[\"Income\"][((df[\"Income\"] >= 30000) & (df[\"Income\"] <= 60000))]\n",
    "df[\"Income\"].hist()"
   ]
  },
  {
   "cell_type": "code",
   "execution_count": 579,
   "id": "1b9f81d6",
   "metadata": {},
   "outputs": [
    {
     "data": {
      "text/plain": [
       "Age           0\n",
       "Income        0\n",
       "Gender        0\n",
       "Registered    0\n",
       "City          0\n",
       "dtype: int64"
      ]
     },
     "execution_count": 579,
     "metadata": {},
     "output_type": "execute_result"
    }
   ],
   "source": [
    "df = df.dropna()\n",
    "df.isnull().sum()"
   ]
  },
  {
   "cell_type": "code",
   "execution_count": 580,
   "id": "0dde912f",
   "metadata": {},
   "outputs": [
    {
     "data": {
      "text/html": [
       "<div>\n",
       "<style scoped>\n",
       "    .dataframe tbody tr th:only-of-type {\n",
       "        vertical-align: middle;\n",
       "    }\n",
       "\n",
       "    .dataframe tbody tr th {\n",
       "        vertical-align: top;\n",
       "    }\n",
       "\n",
       "    .dataframe thead th {\n",
       "        text-align: right;\n",
       "    }\n",
       "</style>\n",
       "<table border=\"1\" class=\"dataframe\">\n",
       "  <thead>\n",
       "    <tr style=\"text-align: right;\">\n",
       "      <th></th>\n",
       "      <th>Age</th>\n",
       "      <th>Income</th>\n",
       "      <th>Gender</th>\n",
       "      <th>Registered</th>\n",
       "      <th>City</th>\n",
       "    </tr>\n",
       "  </thead>\n",
       "  <tbody>\n",
       "    <tr>\n",
       "      <th>1</th>\n",
       "      <td>29.0</td>\n",
       "      <td>43690.320159</td>\n",
       "      <td>FEMALE</td>\n",
       "      <td>0.0</td>\n",
       "      <td>Paris</td>\n",
       "    </tr>\n",
       "    <tr>\n",
       "      <th>2</th>\n",
       "      <td>36.0</td>\n",
       "      <td>44859.282252</td>\n",
       "      <td>MALE</td>\n",
       "      <td>1.0</td>\n",
       "      <td>Tokyo</td>\n",
       "    </tr>\n",
       "    <tr>\n",
       "      <th>4</th>\n",
       "      <td>28.0</td>\n",
       "      <td>47580.714325</td>\n",
       "      <td>MALE</td>\n",
       "      <td>1.0</td>\n",
       "      <td>New York</td>\n",
       "    </tr>\n",
       "    <tr>\n",
       "      <th>5</th>\n",
       "      <td>28.0</td>\n",
       "      <td>56060.762852</td>\n",
       "      <td>FEMALE</td>\n",
       "      <td>0.0</td>\n",
       "      <td>Paris</td>\n",
       "    </tr>\n",
       "    <tr>\n",
       "      <th>7</th>\n",
       "      <td>38.0</td>\n",
       "      <td>52618.667192</td>\n",
       "      <td>FEMAEL</td>\n",
       "      <td>0.0</td>\n",
       "      <td>Berlin</td>\n",
       "    </tr>\n",
       "  </tbody>\n",
       "</table>\n",
       "</div>"
      ],
      "text/plain": [
       "    Age        Income  Gender  Registered      City\n",
       "1  29.0  43690.320159  FEMALE         0.0     Paris\n",
       "2  36.0  44859.282252    MALE         1.0     Tokyo\n",
       "4  28.0  47580.714325    MALE         1.0  New York\n",
       "5  28.0  56060.762852  FEMALE         0.0     Paris\n",
       "7  38.0  52618.667192  FEMAEL         0.0    Berlin"
      ]
     },
     "execution_count": 580,
     "metadata": {},
     "output_type": "execute_result"
    }
   ],
   "source": [
    "df.head()"
   ]
  },
  {
   "cell_type": "code",
   "execution_count": 581,
   "id": "d91d5cb6",
   "metadata": {},
   "outputs": [
    {
     "data": {
      "text/plain": [
       "Income\n",
       "43690.32    1\n",
       "44859.28    1\n",
       "47580.71    1\n",
       "56060.76    1\n",
       "52618.67    1\n",
       "49602.29    1\n",
       "50903.45    1\n",
       "54523.21    1\n",
       "49479.32    1\n",
       "32469.83    1\n",
       "36359.19    1\n",
       "58802.86    1\n",
       "41505.53    1\n",
       "34065.44    1\n",
       "36208.64    1\n",
       "38251.20    1\n",
       "53411.90    1\n",
       "52769.51    1\n",
       "31445.74    1\n",
       "53757.39    1\n",
       "55196.72    1\n",
       "39799.63    1\n",
       "53483.81    1\n",
       "54396.09    1\n",
       "39284.73    1\n",
       "57107.49    1\n",
       "35379.77    1\n",
       "36657.28    1\n",
       "48843.47    1\n",
       "50195.03    1\n",
       "59385.01    1\n",
       "37142.64    1\n",
       "57237.09    1\n",
       "46648.06    1\n",
       "57098.56    1\n",
       "48907.57    1\n",
       "43302.28    1\n",
       "53211.41    1\n",
       "31313.92    1\n",
       "52597.71    1\n",
       "36742.14    1\n",
       "52305.88    1\n",
       "Name: count, dtype: int64"
      ]
     },
     "execution_count": 581,
     "metadata": {},
     "output_type": "execute_result"
    }
   ],
   "source": [
    "# Redondear incomes\n",
    "df['Income'] = df['Income'].round(2)\n",
    "df[\"Income\"].value_counts()"
   ]
  },
  {
   "cell_type": "markdown",
   "id": "269a0330",
   "metadata": {},
   "source": [
    "#### Data Transformation"
   ]
  },
  {
   "cell_type": "code",
   "execution_count": 582,
   "id": "6134c6c8",
   "metadata": {},
   "outputs": [
    {
     "data": {
      "text/html": [
       "<div>\n",
       "<style scoped>\n",
       "    .dataframe tbody tr th:only-of-type {\n",
       "        vertical-align: middle;\n",
       "    }\n",
       "\n",
       "    .dataframe tbody tr th {\n",
       "        vertical-align: top;\n",
       "    }\n",
       "\n",
       "    .dataframe thead th {\n",
       "        text-align: right;\n",
       "    }\n",
       "</style>\n",
       "<table border=\"1\" class=\"dataframe\">\n",
       "  <thead>\n",
       "    <tr style=\"text-align: right;\">\n",
       "      <th></th>\n",
       "      <th>Age</th>\n",
       "      <th>Income</th>\n",
       "      <th>Gender</th>\n",
       "      <th>Registered</th>\n",
       "      <th>City</th>\n",
       "    </tr>\n",
       "  </thead>\n",
       "  <tbody>\n",
       "    <tr>\n",
       "      <th>1</th>\n",
       "      <td>29.0</td>\n",
       "      <td>43690.32</td>\n",
       "      <td>FEMALE</td>\n",
       "      <td>0.0</td>\n",
       "      <td>Paris</td>\n",
       "    </tr>\n",
       "    <tr>\n",
       "      <th>2</th>\n",
       "      <td>36.0</td>\n",
       "      <td>44859.28</td>\n",
       "      <td>MALE</td>\n",
       "      <td>1.0</td>\n",
       "      <td>Tokyo</td>\n",
       "    </tr>\n",
       "    <tr>\n",
       "      <th>4</th>\n",
       "      <td>28.0</td>\n",
       "      <td>47580.71</td>\n",
       "      <td>MALE</td>\n",
       "      <td>1.0</td>\n",
       "      <td>New York</td>\n",
       "    </tr>\n",
       "    <tr>\n",
       "      <th>5</th>\n",
       "      <td>28.0</td>\n",
       "      <td>56060.76</td>\n",
       "      <td>FEMALE</td>\n",
       "      <td>0.0</td>\n",
       "      <td>Paris</td>\n",
       "    </tr>\n",
       "    <tr>\n",
       "      <th>7</th>\n",
       "      <td>38.0</td>\n",
       "      <td>52618.67</td>\n",
       "      <td>FEMAEL</td>\n",
       "      <td>0.0</td>\n",
       "      <td>Berlin</td>\n",
       "    </tr>\n",
       "  </tbody>\n",
       "</table>\n",
       "</div>"
      ],
      "text/plain": [
       "    Age    Income  Gender  Registered      City\n",
       "1  29.0  43690.32  FEMALE         0.0     Paris\n",
       "2  36.0  44859.28    MALE         1.0     Tokyo\n",
       "4  28.0  47580.71    MALE         1.0  New York\n",
       "5  28.0  56060.76  FEMALE         0.0     Paris\n",
       "7  38.0  52618.67  FEMAEL         0.0    Berlin"
      ]
     },
     "execution_count": 582,
     "metadata": {},
     "output_type": "execute_result"
    }
   ],
   "source": [
    "df.head()"
   ]
  },
  {
   "cell_type": "code",
   "execution_count": 583,
   "id": "8c19b6bf",
   "metadata": {},
   "outputs": [
    {
     "data": {
      "text/plain": [
       "Gender\n",
       "MALE      18\n",
       "FEMALE    12\n",
       "FEMAEL     6\n",
       "FEMLE      6\n",
       "Name: count, dtype: int64"
      ]
     },
     "execution_count": 583,
     "metadata": {},
     "output_type": "execute_result"
    }
   ],
   "source": [
    "df[\"Gender\"].value_counts()"
   ]
  },
  {
   "cell_type": "markdown",
   "id": "f612c864",
   "metadata": {},
   "source": [
    "#### Replacing values wrong in gender"
   ]
  },
  {
   "cell_type": "code",
   "execution_count": 584,
   "id": "38af749b",
   "metadata": {},
   "outputs": [
    {
     "name": "stderr",
     "output_type": "stream",
     "text": [
      "C:\\Users\\Jmnzb\\AppData\\Local\\Temp\\ipykernel_4488\\3587363836.py:1: FutureWarning: A value is trying to be set on a copy of a DataFrame or Series through chained assignment using an inplace method.\n",
      "The behavior will change in pandas 3.0. This inplace method will never work because the intermediate object on which we are setting values always behaves as a copy.\n",
      "\n",
      "For example, when doing 'df[col].method(value, inplace=True)', try using 'df.method({col: value}, inplace=True)' or df[col] = df[col].method(value) instead, to perform the operation inplace on the original object.\n",
      "\n",
      "\n",
      "  df[\"Gender\"].replace({\"FEMAEL\":\"FEMALE\", \"FEMLE\":\"FEMALE\"}, inplace=True)\n"
     ]
    },
    {
     "data": {
      "text/plain": [
       "Gender\n",
       "FEMALE    24\n",
       "MALE      18\n",
       "Name: count, dtype: int64"
      ]
     },
     "execution_count": 584,
     "metadata": {},
     "output_type": "execute_result"
    }
   ],
   "source": [
    "df[\"Gender\"].replace({\"FEMAEL\":\"FEMALE\", \"FEMLE\":\"FEMALE\"}, inplace=True)\n",
    "df[\"Gender\"].value_counts()"
   ]
  },
  {
   "cell_type": "markdown",
   "id": "28ca0eb0",
   "metadata": {},
   "source": [
    "#### Changing our genders to int values"
   ]
  },
  {
   "cell_type": "code",
   "execution_count": 585,
   "id": "2418607a",
   "metadata": {},
   "outputs": [
    {
     "data": {
      "text/plain": [
       "Gender\n",
       "0    24\n",
       "1    18\n",
       "Name: count, dtype: int64"
      ]
     },
     "execution_count": 585,
     "metadata": {},
     "output_type": "execute_result"
    }
   ],
   "source": [
    "df.loc[df[\"Gender\"] == \"FEMALE\", \"Gender\"] = 0\n",
    "df.loc[df[\"Gender\"] == \"MALE\", \"Gender\"] = 1\n",
    "df[\"Gender\"].value_counts()"
   ]
  },
  {
   "cell_type": "code",
   "execution_count": 586,
   "id": "bd840cd2",
   "metadata": {},
   "outputs": [
    {
     "data": {
      "text/html": [
       "<div>\n",
       "<style scoped>\n",
       "    .dataframe tbody tr th:only-of-type {\n",
       "        vertical-align: middle;\n",
       "    }\n",
       "\n",
       "    .dataframe tbody tr th {\n",
       "        vertical-align: top;\n",
       "    }\n",
       "\n",
       "    .dataframe thead th {\n",
       "        text-align: right;\n",
       "    }\n",
       "</style>\n",
       "<table border=\"1\" class=\"dataframe\">\n",
       "  <thead>\n",
       "    <tr style=\"text-align: right;\">\n",
       "      <th></th>\n",
       "      <th>Age</th>\n",
       "      <th>Income</th>\n",
       "      <th>Gender</th>\n",
       "      <th>Registered</th>\n",
       "      <th>City</th>\n",
       "    </tr>\n",
       "  </thead>\n",
       "  <tbody>\n",
       "    <tr>\n",
       "      <th>1</th>\n",
       "      <td>29.0</td>\n",
       "      <td>43690.32</td>\n",
       "      <td>0</td>\n",
       "      <td>0.0</td>\n",
       "      <td>Paris</td>\n",
       "    </tr>\n",
       "    <tr>\n",
       "      <th>2</th>\n",
       "      <td>36.0</td>\n",
       "      <td>44859.28</td>\n",
       "      <td>1</td>\n",
       "      <td>1.0</td>\n",
       "      <td>Tokyo</td>\n",
       "    </tr>\n",
       "    <tr>\n",
       "      <th>4</th>\n",
       "      <td>28.0</td>\n",
       "      <td>47580.71</td>\n",
       "      <td>1</td>\n",
       "      <td>1.0</td>\n",
       "      <td>New York</td>\n",
       "    </tr>\n",
       "    <tr>\n",
       "      <th>5</th>\n",
       "      <td>28.0</td>\n",
       "      <td>56060.76</td>\n",
       "      <td>0</td>\n",
       "      <td>0.0</td>\n",
       "      <td>Paris</td>\n",
       "    </tr>\n",
       "    <tr>\n",
       "      <th>7</th>\n",
       "      <td>38.0</td>\n",
       "      <td>52618.67</td>\n",
       "      <td>0</td>\n",
       "      <td>0.0</td>\n",
       "      <td>Berlin</td>\n",
       "    </tr>\n",
       "  </tbody>\n",
       "</table>\n",
       "</div>"
      ],
      "text/plain": [
       "    Age    Income Gender  Registered      City\n",
       "1  29.0  43690.32      0         0.0     Paris\n",
       "2  36.0  44859.28      1         1.0     Tokyo\n",
       "4  28.0  47580.71      1         1.0  New York\n",
       "5  28.0  56060.76      0         0.0     Paris\n",
       "7  38.0  52618.67      0         0.0    Berlin"
      ]
     },
     "execution_count": 586,
     "metadata": {},
     "output_type": "execute_result"
    }
   ],
   "source": [
    "df.head()"
   ]
  },
  {
   "cell_type": "markdown",
   "id": "8a99b3f9",
   "metadata": {},
   "source": [
    "#### Changing our cities values to int values"
   ]
  },
  {
   "cell_type": "code",
   "execution_count": 587,
   "id": "ee0da36c",
   "metadata": {},
   "outputs": [
    {
     "data": {
      "text/plain": [
       "City\n",
       "New York    15\n",
       "Paris        9\n",
       "Tokyo        9\n",
       "Berlin       9\n",
       "Name: count, dtype: int64"
      ]
     },
     "execution_count": 587,
     "metadata": {},
     "output_type": "execute_result"
    }
   ],
   "source": [
    "df[\"City\"].value_counts()"
   ]
  },
  {
   "cell_type": "code",
   "execution_count": 588,
   "id": "54bc50b0",
   "metadata": {},
   "outputs": [
    {
     "data": {
      "text/plain": [
       "City\n",
       "0    15\n",
       "1     9\n",
       "2     9\n",
       "3     9\n",
       "Name: count, dtype: int64"
      ]
     },
     "execution_count": 588,
     "metadata": {},
     "output_type": "execute_result"
    }
   ],
   "source": [
    "df.loc[df[\"City\"] == \"New York\", \"City\"] = 0\n",
    "df.loc[df[\"City\"] == \"Paris\", \"City\"] = 1\n",
    "df.loc[df[\"City\"] == \"Tokyo\", \"City\"] = 2\n",
    "df.loc[df[\"City\"] == \"Berlin\", \"City\"] = 3\n",
    "df[\"City\"].value_counts()"
   ]
  },
  {
   "cell_type": "code",
   "execution_count": 589,
   "id": "b0ad7a89",
   "metadata": {},
   "outputs": [
    {
     "data": {
      "text/html": [
       "<div>\n",
       "<style scoped>\n",
       "    .dataframe tbody tr th:only-of-type {\n",
       "        vertical-align: middle;\n",
       "    }\n",
       "\n",
       "    .dataframe tbody tr th {\n",
       "        vertical-align: top;\n",
       "    }\n",
       "\n",
       "    .dataframe thead th {\n",
       "        text-align: right;\n",
       "    }\n",
       "</style>\n",
       "<table border=\"1\" class=\"dataframe\">\n",
       "  <thead>\n",
       "    <tr style=\"text-align: right;\">\n",
       "      <th></th>\n",
       "      <th>Age</th>\n",
       "      <th>Income</th>\n",
       "      <th>Gender</th>\n",
       "      <th>Registered</th>\n",
       "      <th>City</th>\n",
       "    </tr>\n",
       "  </thead>\n",
       "  <tbody>\n",
       "    <tr>\n",
       "      <th>1</th>\n",
       "      <td>29.0</td>\n",
       "      <td>43690.32</td>\n",
       "      <td>0</td>\n",
       "      <td>0.0</td>\n",
       "      <td>1</td>\n",
       "    </tr>\n",
       "    <tr>\n",
       "      <th>2</th>\n",
       "      <td>36.0</td>\n",
       "      <td>44859.28</td>\n",
       "      <td>1</td>\n",
       "      <td>1.0</td>\n",
       "      <td>2</td>\n",
       "    </tr>\n",
       "    <tr>\n",
       "      <th>4</th>\n",
       "      <td>28.0</td>\n",
       "      <td>47580.71</td>\n",
       "      <td>1</td>\n",
       "      <td>1.0</td>\n",
       "      <td>0</td>\n",
       "    </tr>\n",
       "    <tr>\n",
       "      <th>5</th>\n",
       "      <td>28.0</td>\n",
       "      <td>56060.76</td>\n",
       "      <td>0</td>\n",
       "      <td>0.0</td>\n",
       "      <td>1</td>\n",
       "    </tr>\n",
       "    <tr>\n",
       "      <th>7</th>\n",
       "      <td>38.0</td>\n",
       "      <td>52618.67</td>\n",
       "      <td>0</td>\n",
       "      <td>0.0</td>\n",
       "      <td>3</td>\n",
       "    </tr>\n",
       "  </tbody>\n",
       "</table>\n",
       "</div>"
      ],
      "text/plain": [
       "    Age    Income Gender  Registered City\n",
       "1  29.0  43690.32      0         0.0    1\n",
       "2  36.0  44859.28      1         1.0    2\n",
       "4  28.0  47580.71      1         1.0    0\n",
       "5  28.0  56060.76      0         0.0    1\n",
       "7  38.0  52618.67      0         0.0    3"
      ]
     },
     "execution_count": 589,
     "metadata": {},
     "output_type": "execute_result"
    }
   ],
   "source": [
    "df.head()"
   ]
  }
 ],
 "metadata": {
  "kernelspec": {
   "display_name": "Python 3",
   "language": "python",
   "name": "python3"
  },
  "language_info": {
   "codemirror_mode": {
    "name": "ipython",
    "version": 3
   },
   "file_extension": ".py",
   "mimetype": "text/x-python",
   "name": "python",
   "nbconvert_exporter": "python",
   "pygments_lexer": "ipython3",
   "version": "3.13.2"
  }
 },
 "nbformat": 4,
 "nbformat_minor": 5
}
